{
  "nbformat": 4,
  "nbformat_minor": 0,
  "metadata": {
    "colab": {
      "provenance": []
    },
    "kernelspec": {
      "name": "python3",
      "display_name": "Python 3"
    },
    "language_info": {
      "name": "python"
    }
  },
  "cells": [
    {
      "cell_type": "code",
      "execution_count": 1,
      "metadata": {
        "colab": {
          "base_uri": "https://localhost:8080/"
        },
        "id": "ECIEL1Ta44VW",
        "outputId": "1830ce35-f8f3-4805-97d1-f1e1431b15dc"
      },
      "outputs": [
        {
          "output_type": "stream",
          "name": "stdout",
          "text": [
            "Requirement already satisfied: qiskit in /usr/local/lib/python3.10/dist-packages (1.0.2)\n",
            "Requirement already satisfied: rustworkx>=0.14.0 in /usr/local/lib/python3.10/dist-packages (from qiskit) (0.14.2)\n",
            "Requirement already satisfied: numpy<2,>=1.17 in /usr/local/lib/python3.10/dist-packages (from qiskit) (1.25.2)\n",
            "Requirement already satisfied: scipy>=1.5 in /usr/local/lib/python3.10/dist-packages (from qiskit) (1.11.4)\n",
            "Requirement already satisfied: sympy>=1.3 in /usr/local/lib/python3.10/dist-packages (from qiskit) (1.12)\n",
            "Requirement already satisfied: dill>=0.3 in /usr/local/lib/python3.10/dist-packages (from qiskit) (0.3.8)\n",
            "Requirement already satisfied: python-dateutil>=2.8.0 in /usr/local/lib/python3.10/dist-packages (from qiskit) (2.8.2)\n",
            "Requirement already satisfied: stevedore>=3.0.0 in /usr/local/lib/python3.10/dist-packages (from qiskit) (5.2.0)\n",
            "Requirement already satisfied: typing-extensions in /usr/local/lib/python3.10/dist-packages (from qiskit) (4.11.0)\n",
            "Requirement already satisfied: symengine>=0.11 in /usr/local/lib/python3.10/dist-packages (from qiskit) (0.11.0)\n",
            "Requirement already satisfied: six>=1.5 in /usr/local/lib/python3.10/dist-packages (from python-dateutil>=2.8.0->qiskit) (1.16.0)\n",
            "Requirement already satisfied: pbr!=2.1.0,>=2.0.0 in /usr/local/lib/python3.10/dist-packages (from stevedore>=3.0.0->qiskit) (6.0.0)\n",
            "Requirement already satisfied: mpmath>=0.19 in /usr/local/lib/python3.10/dist-packages (from sympy>=1.3->qiskit) (1.3.0)\n"
          ]
        }
      ],
      "source": [
        "!pip install qiskit"
      ]
    },
    {
      "cell_type": "code",
      "source": [
        "from qiskit import QuantumCircuit\n",
        "import qiskit.quantum_info as qi\n",
        "import numpy as np"
      ],
      "metadata": {
        "id": "QvVuMzUS6Doc"
      },
      "execution_count": 2,
      "outputs": []
    },
    {
      "cell_type": "markdown",
      "source": [
        "# Revers(ibl)e Engineering [0/2]\n",
        "## Présentation de l'énoncé\n",
        "### Enoncé\n",
        "\"My game is a lot about footwork. If I move well - I play well.\" - Joueur de tennis peu connu\n",
        "\n",
        "Au tennis, des déplacements optimaux font gagner des matchs - même chose ici, mais avec des circuits logiques. Recevez un circuit logique réversible effectuant une opération sur 3 bits. Renvoyez un circuit optimal équivalent. Plusieurs solutions sont possibles.\n",
        "\n",
        "\n",
        "Précisions :\n",
        "Les seules portes logiques réversibles utilisées seront :\n",
        "La porte NOT\n",
        "La porte CNOT (controlled NOT)\n",
        "La porte TOFFOLI\n",
        "La convention de notation sera de noter les bits de contrôle en premier.\n",
        "Deux circuits seront dit équivalents s'ils effectuent la même opération.\n",
        "Un circuit sera dit optimal s'il n'existe aucun circuit équivalent comportant un nombre de portes logiques strictement plus petit.\n",
        "Si la connexion se coupe sans message, c'est que vous avez timeout ! Pas plus de 60 secondes par circuit !\n",
        "\n",
        "### Exemple de cicuit\n",
        "Un exemple de circuit à optimiser est ```{\"gates\": [[\"NOT\", [0]], [\"CNOT\", [2, 0]], [\"CNOT\", [1, 2]], [\"NOT\", [2]], [\"CNOT\", [2, 0]], [\"TOFFOLI\", [2, 1, 0]], [\"NOT\", [2]], [\"NOT\", [0]]], \"bits\": 3}```\n",
        "\n",
        "### Hypothèses complémentaire\n",
        "J'ai constaté que le serveur envoie uniquement des portes à 3 qubits. Dans la suite, j'ai hardcodé cette valeur."
      ],
      "metadata": {
        "id": "TDV8Qy5EDt8i"
      }
    },
    {
      "cell_type": "markdown",
      "source": [
        "## Introduction à Qiskit\n",
        "\n",
        "Dans la suite, je vais utiliser Qiskit pour manipuler les portes logiques et les circuits donc je vous propose une rapide introduction à l'outil dans cette section.\n",
        "\n",
        "On considère le circut suivant : ```[[\"NOT\", [0]], [\"CNOT\", [2, 0]], [\"CNOT\", [1, 2]], [\"NOT\", [2]], [\"CNOT\", [2, 0]], [\"TOFFOLI\", [2, 1, 0]], [\"NOT\", [2]], [\"NOT\", [0]]]```. On peut le représenter dans Qiskit avec :"
      ],
      "metadata": {
        "id": "Dj5EudwBSXep"
      }
    },
    {
      "cell_type": "code",
      "source": [
        "qc = QuantumCircuit(3) # Création d'un circuit à 3 Qubits\n",
        "qc.x(0)         # NOT(0)\n",
        "qc.cx(2,0)      # CNOT(2,0)\n",
        "qc.cx(1,2)      # CNOT(1,2)\n",
        "qc.x(2)         # NOT(2)\n",
        "qc.cx(2,0)      # NOT(2,0)\n",
        "qc.ccx(2,1,0)   # TOFFOLI(2,1,0)\n",
        "qc.x(2)         # NOT(2)\n",
        "qc.x(0)         # NOT(0)\n",
        "\n",
        "qc.draw()       # Visualiser le circuit"
      ],
      "metadata": {
        "colab": {
          "base_uri": "https://localhost:8080/",
          "height": 125
        },
        "id": "cANNKHFQAixt",
        "outputId": "dfae9c35-f453-426a-b404-1291fd49fe33"
      },
      "execution_count": 3,
      "outputs": [
        {
          "output_type": "execute_result",
          "data": {
            "text/plain": [
              "     ┌───┐┌───┐          ┌───┐┌───┐┌───┐\n",
              "q_0: ┤ X ├┤ X ├──────────┤ X ├┤ X ├┤ X ├\n",
              "     └───┘└─┬─┘          └─┬─┘└─┬─┘└───┘\n",
              "q_1: ───────┼────■─────────┼────■───────\n",
              "            │  ┌─┴─┐┌───┐  │    │  ┌───┐\n",
              "q_2: ───────■──┤ X ├┤ X ├──■────■──┤ X ├\n",
              "               └───┘└───┘          └───┘"
            ],
            "text/html": [
              "<pre style=\"word-wrap: normal;white-space: pre;background: #fff0;line-height: 1.1;font-family: &quot;Courier New&quot;,Courier,monospace\">     ┌───┐┌───┐          ┌───┐┌───┐┌───┐\n",
              "q_0: ┤ X ├┤ X ├──────────┤ X ├┤ X ├┤ X ├\n",
              "     └───┘└─┬─┘          └─┬─┘└─┬─┘└───┘\n",
              "q_1: ───────┼────■─────────┼────■───────\n",
              "            │  ┌─┴─┐┌───┐  │    │  ┌───┐\n",
              "q_2: ───────■──┤ X ├┤ X ├──■────■──┤ X ├\n",
              "               └───┘└───┘          └───┘</pre>"
            ]
          },
          "metadata": {},
          "execution_count": 3
        }
      ]
    },
    {
      "cell_type": "markdown",
      "source": [
        "On peut également visualiser la matrice associée au circuit"
      ],
      "metadata": {
        "id": "bfQh7oFTvT-9"
      }
    },
    {
      "cell_type": "code",
      "source": [
        "qc_matrix = qi.Operator(qc).data\n",
        "print(qc_matrix)"
      ],
      "metadata": {
        "colab": {
          "base_uri": "https://localhost:8080/"
        },
        "id": "Cx6CdrATvS7f",
        "outputId": "2360a937-a76f-44f4-9002-fa91e0b1ede8"
      },
      "execution_count": 4,
      "outputs": [
        {
          "output_type": "stream",
          "name": "stdout",
          "text": [
            "[[0.+0.j 1.+0.j 0.+0.j 0.+0.j 0.+0.j 0.+0.j 0.+0.j 0.+0.j]\n",
            " [1.+0.j 0.+0.j 0.+0.j 0.+0.j 0.+0.j 0.+0.j 0.+0.j 0.+0.j]\n",
            " [0.+0.j 0.+0.j 0.+0.j 0.+0.j 0.+0.j 0.+0.j 0.+0.j 1.+0.j]\n",
            " [0.+0.j 0.+0.j 0.+0.j 0.+0.j 0.+0.j 0.+0.j 1.+0.j 0.+0.j]\n",
            " [0.+0.j 0.+0.j 0.+0.j 0.+0.j 0.+0.j 1.+0.j 0.+0.j 0.+0.j]\n",
            " [0.+0.j 0.+0.j 0.+0.j 0.+0.j 1.+0.j 0.+0.j 0.+0.j 0.+0.j]\n",
            " [0.+0.j 0.+0.j 1.+0.j 0.+0.j 0.+0.j 0.+0.j 0.+0.j 0.+0.j]\n",
            " [0.+0.j 0.+0.j 0.+0.j 1.+0.j 0.+0.j 0.+0.j 0.+0.j 0.+0.j]]\n"
          ]
        }
      ]
    },
    {
      "cell_type": "markdown",
      "source": [
        "Les coefficients de la matrice étant rééls, pour plus de lisibilité, on pourra utiliser la fonction suivante\n",
        "\n"
      ],
      "metadata": {
        "id": "rXcio3EivkXg"
      }
    },
    {
      "cell_type": "code",
      "source": [
        "def cmplx_to_real_array(arr):\n",
        "  \"\"\"\n",
        "  Parce que c'est plus facile à observer\n",
        "  \"\"\"\n",
        "  res = np.zeros(arr.shape)\n",
        "  for i in range(0,res.shape[0]):\n",
        "    for j in range(0,res.shape[1]):\n",
        "      if arr[i][j].imag != 0:\n",
        "        raise Exception(\"Some coeff is complex\")\n",
        "      res[i][j] = arr[i][j].real\n",
        "  return res\n",
        "\n",
        "print(cmplx_to_real_array(qc_matrix))"
      ],
      "metadata": {
        "colab": {
          "base_uri": "https://localhost:8080/"
        },
        "id": "iAYhswYFviez",
        "outputId": "3a80981a-4cde-4dba-f199-b4cc28383c22"
      },
      "execution_count": 5,
      "outputs": [
        {
          "output_type": "stream",
          "name": "stdout",
          "text": [
            "[[0. 1. 0. 0. 0. 0. 0. 0.]\n",
            " [1. 0. 0. 0. 0. 0. 0. 0.]\n",
            " [0. 0. 0. 0. 0. 0. 0. 1.]\n",
            " [0. 0. 0. 0. 0. 0. 1. 0.]\n",
            " [0. 0. 0. 0. 0. 1. 0. 0.]\n",
            " [0. 0. 0. 0. 1. 0. 0. 0.]\n",
            " [0. 0. 1. 0. 0. 0. 0. 0.]\n",
            " [0. 0. 0. 1. 0. 0. 0. 0.]]\n"
          ]
        }
      ]
    },
    {
      "cell_type": "markdown",
      "source": [
        "L'intérêt d'utiliser Qiskit est la capacité de facilement manipuler les circuits et les portes sous forme matricielle avec [qiskit.quantum_info.Operator](https://docs.quantum.ibm.com/api/qiskit/qiskit.quantum_info.Operator)"
      ],
      "metadata": {
        "id": "f8ojG-ybLF4r"
      }
    },
    {
      "cell_type": "code",
      "source": [
        "def gen_circuit_from_ctf(inp) -> QuantumCircuit:\n",
        "  \"\"\"\n",
        "  Fonction permettant d'automatiser la génération d'un circuit à partir d'un input de la forme :\n",
        "  # INPUT = [[\"NOT\", [0]], [\"CNOT\", [2, 0]], [\"CNOT\", [1, 2]], [\"NOT\", [2]], [\"CNOT\", [2, 0]], [\"TOFFOLI\", [2, 1, 0]], [\"NOT\", [2]], [\"NOT\", [0]]]\n",
        "  \"\"\"\n",
        "  qc = QuantumCircuit(3)\n",
        "  for gate in inp:\n",
        "    if gate[0] == \"NOT\":\n",
        "      qc.x(gate[1][0])\n",
        "    elif gate[0] == \"CNOT\":\n",
        "      qc.cx(gate[1][0], gate[1][1])\n",
        "    elif gate[0] == \"TOFFOLI\":\n",
        "      qc.ccx(gate[1][0],gate[1][1],gate[1][2])\n",
        "    else:\n",
        "      assert False\n",
        "  return qc"
      ],
      "metadata": {
        "id": "89qlCzzhbdAI"
      },
      "execution_count": 6,
      "outputs": []
    },
    {
      "cell_type": "markdown",
      "source": [
        " ## Les portes ```NOT```, ```CNOT``` et ```TOFFOLI```\n",
        " Le sujet nous indique que les portes ```NOT```, ```CNOT``` et ```TOFFOLI``` sont réversibles.\n",
        "\n",
        " On va observer à l'aide de Qiskit que ces portes sont représentées par des [matrices de permutation](https://fr.wikipedia.org/wiki/Matrice_de_permutation).\n",
        "\n",
        " Mais mieux encore, on va également remarquer que la matrice associée à chacune des portes a pour inverse elle-même. Ce qui s'intuite assez facilement : NOT(NOT(x)) == X...\n",
        "\n"
      ],
      "metadata": {
        "id": "zeUdHtB9EzwE"
      }
    },
    {
      "cell_type": "code",
      "source": [
        "# Génération des matrices des différentes portes NOT possibles\n",
        "# NOT(0)\n",
        "NOT0_circ = QuantumCircuit(3)\n",
        "NOT0_circ.x(0)\n",
        "# NOT(1)\n",
        "NOT1_circ = QuantumCircuit(3)\n",
        "NOT1_circ.x(1)\n",
        "# NOT(2)\n",
        "NOT2_circ = QuantumCircuit(3)\n",
        "NOT2_circ.x(2)\n",
        "\n",
        "NOT0_M = qi.Operator(NOT0_circ)\n",
        "NOT1_M = qi.Operator(NOT1_circ)\n",
        "NOT2_M = qi.Operator(NOT2_circ)\n",
        "\n",
        "assert ((NOT0_M.dot(NOT0_M).data)==np.identity(8)).all()"
      ],
      "metadata": {
        "id": "L1N_YmSIXCTz"
      },
      "execution_count": 7,
      "outputs": []
    },
    {
      "cell_type": "code",
      "source": [
        "# Génération des matrices des différentes portes CNOT possibles\n",
        "# CNOT(0, 1)\n",
        "CNOT01_circ = QuantumCircuit(3)\n",
        "CNOT01_circ.cx(0, 1)\n",
        "# CNOT(0, 2)\n",
        "CNOT02_circ = QuantumCircuit(3)\n",
        "CNOT02_circ.cx(0, 2)\n",
        "# CNOT(1, 0)\n",
        "CNOT10_circ = QuantumCircuit(3)\n",
        "CNOT10_circ.cx(1, 0)\n",
        "# CNOT(1, 2)\n",
        "CNOT12_circ = QuantumCircuit(3)\n",
        "CNOT12_circ.cx(1, 2)\n",
        "# CNOT(2, 0)\n",
        "CNOT20_circ = QuantumCircuit(3)\n",
        "CNOT20_circ.cx(2, 0)\n",
        "# CNOT(2, 1)\n",
        "CNOT21_circ = QuantumCircuit(3)\n",
        "CNOT21_circ.cx(2, 1)\n",
        "\n",
        "CNOT01_M = qi.Operator(CNOT01_circ)\n",
        "CNOT02_M = qi.Operator(CNOT02_circ)\n",
        "CNOT10_M = qi.Operator(CNOT10_circ)\n",
        "CNOT12_M = qi.Operator(CNOT12_circ)\n",
        "CNOT20_M = qi.Operator(CNOT20_circ)\n",
        "CNOT21_M = qi.Operator(CNOT21_circ)\n",
        "\n",
        "assert ((CNOT01_M.dot(CNOT01_M).data)==np.identity(8)).all()"
      ],
      "metadata": {
        "id": "2HioJZXIXKWF"
      },
      "execution_count": 8,
      "outputs": []
    },
    {
      "cell_type": "code",
      "source": [
        "# Génération des matrices des différentes portes TOFFOLI possibles\n",
        "# TOFFOLI(0, 1, 2) == TOFFOLI(1, 0, 2)\n",
        "TOFF2_circ = QuantumCircuit(3)\n",
        "TOFF2_circ.ccx(0, 1, 2)\n",
        "# TOFFOLI(1, 2, 0) == TOFFOLI(2, 1, 0)\n",
        "TOFF0_circ = QuantumCircuit(3)\n",
        "TOFF0_circ.ccx(1, 2, 0)\n",
        "# TOFFOLI(0, 2, 1) == TOFFOLI(2, 0, 1)\n",
        "TOFF1_circ = QuantumCircuit(3)\n",
        "TOFF1_circ.ccx(0, 2, 1)\n",
        "\n",
        "TOFF0_M = qi.Operator(TOFF0_circ)\n",
        "TOFF1_M = qi.Operator(TOFF1_circ)\n",
        "TOFF2_M = qi.Operator(TOFF2_circ)\n",
        "\n",
        "assert ((TOFF2_M.dot(TOFF2_M).data)==np.identity(8)).all()"
      ],
      "metadata": {
        "id": "zO0QahljXQNF"
      },
      "execution_count": 9,
      "outputs": []
    },
    {
      "cell_type": "markdown",
      "source": [
        "### Stratégie et implémentation\n",
        "A partir du circuit reçu, on récupère la matrice de permutation associée.\n",
        "Puis on va essayer de factoriser cette matrice avec pour facteur les matrices des portes ```NOT```, ```CNOT``` et ```TOFFOLI```."
      ],
      "metadata": {
        "id": "uaXwoq9Lv5_L"
      }
    },
    {
      "cell_type": "code",
      "source": [
        "# Dictionnaire contenant toutes les portes pouvant être utilisées lors de la factorisation\n",
        "BASIC_MX_DICT = {\n",
        "    \"NOT0_M\": [NOT0_M, [\"NOT\", [0]]],\n",
        "    \"NOT1_M\": [NOT1_M, [\"NOT\", [1]]],\n",
        "    \"NOT2_M\": [NOT2_M, [\"NOT\", [2]]],\n",
        "\n",
        "    \"CNOT01_M\": [CNOT01_M, [\"CNOT\", [0, 1]]],\n",
        "    \"CNOT02_M\": [CNOT02_M, [\"CNOT\", [0, 2]]],\n",
        "    \"CNOT10_M\": [CNOT10_M, [\"CNOT\", [1, 0]]],\n",
        "    \"CNOT12_M\": [CNOT12_M, [\"CNOT\", [1, 2]]],\n",
        "    \"CNOT20_M\": [CNOT20_M, [\"CNOT\", [2, 0]]],\n",
        "    \"CNOT21_M\": [CNOT21_M, [\"CNOT\", [2, 1]]],\n",
        "\n",
        "    \"TOFF0_M\": [TOFF0_M, [\"TOFFOLI\", [1, 2, 0]]],\n",
        "    \"TOFF1_M\": [TOFF1_M, [\"TOFFOLI\", [0, 2, 1]]],\n",
        "    \"TOFF2_M\": [TOFF2_M, [\"TOFFOLI\", [1, 0, 2]]]\n",
        "    }"
      ],
      "metadata": {
        "id": "jlNil6QScy7J"
      },
      "execution_count": 10,
      "outputs": []
    },
    {
      "cell_type": "markdown",
      "source": [
        "Notons $M_{C}$ la matrice du circuit à optimiser. Je cherche une plus courte suite de portes $P_i \\in \\text{BASIC_MX_DICT}$ tel que $M_{C} = \\prod_{i}P_i$. Pour reconstruire le circuit, il suffira de concaténer les portes dans l'ordre inverse : $P_kP_{k-1}...P_{0}$ car multiplier à droite revient à ajouter un élément en début de circuit.\n",
        "\n",
        "En pratique, dans la suite, j'ai plutôt construit la suite des $P_i$ avec un algorithme de parcours en largeur avec pour condition d'arrêt $M_{C}\\prod_{i}P_i = Id$. Ce qui revient au même mais pour reconstruire le circuit, il suffira de concaténer les portes dans l'ordre : $P_{0}...P_{k-1}P_k$."
      ],
      "metadata": {
        "id": "Jitukt91UYbO"
      }
    },
    {
      "cell_type": "code",
      "source": [
        "def optimize_bfs(ctfMatrix, maxDepth):\n",
        "  \"\"\"\n",
        "  Algorithme de parcours en largeur cherchant une factorisation optimale de ctfMatrix avec au plus \"maxDepth\" facteur.\n",
        "  \"\"\"\n",
        "  # Initialisation avec l'hypothèse que le circuit optimisé comportera au moins 2 portes.\n",
        "  initialState = [([k], ctfMatrix.dot(BASIC_MX_DICT[k][0])) for k in BASIC_MX_DICT]\n",
        "  for i in range(1, maxDepth):\n",
        "    currentState = []\n",
        "    for s in initialState:\n",
        "      for gate in BASIC_MX_DICT:\n",
        "        curM = s[1].dot(BASIC_MX_DICT[gate][0])\n",
        "        if (curM==np.identity(8)).all():\n",
        "          return s[0] + [gate]\n",
        "        currentState.append((s[0] + [gate], curM))\n",
        "    initialState = currentState\n",
        "  raise Exception(\"NOT FOUND: MaxDepth reached\")"
      ],
      "metadata": {
        "id": "F3bjPDD5XSCG"
      },
      "execution_count": 11,
      "outputs": []
    },
    {
      "cell_type": "code",
      "source": [
        "def bfs_opt_to_ctf(optiStates):\n",
        "  \"\"\"\n",
        "  Fonction permettant de transformer le résultat retourné par optimize_bfs sous la forme d'une liste compatible avec la représentation du circuit utilisée par le 404CTF dans le champ \"gates\".\n",
        "  \"\"\"\n",
        "  res = []\n",
        "  for elt in optiStates:\n",
        "    res.append(BASIC_MX_DICT[elt][1])\n",
        "  return res\n",
        "\n",
        "def bfs_opt_to_ctf_str(optiStates):\n",
        "  \"\"\"\n",
        "  Fonction permettant de transformer le résultat retourné par optimize_bfs sous la forme d'une liste compatible avec la représentation utilisée par le 404CTF.\n",
        "  \"\"\"\n",
        "  res = bfs_opt_to_ctf(optiStates)\n",
        "  resStr = '{\"gates\": ' +str(res).replace(\"'\",'\"') + ', \"bits\": 3}'\n",
        "  return resStr"
      ],
      "metadata": {
        "id": "rQvjx7_8n0F2"
      },
      "execution_count": 12,
      "outputs": []
    },
    {
      "cell_type": "markdown",
      "source": [
        "## Tests"
      ],
      "metadata": {
        "id": "RjShl-7gb9hv"
      }
    },
    {
      "cell_type": "code",
      "source": [
        "INPUT = [[\"CNOT\", [2, 0]], [\"CNOT\", [2, 1]], [\"NOT\", [2]], [\"CNOT\", [2, 1]], [\"TOFFOLI\", [0, 2, 1]], [\"CNOT\", [1, 2]], [\"NOT\", [0]], [\"CNOT\", [0, 2]]]\n",
        "qc404 = gen_circuit_from_ctf(INPUT)\n",
        "qc404.draw() # Circuit non optimisé"
      ],
      "metadata": {
        "colab": {
          "base_uri": "https://localhost:8080/",
          "height": 125
        },
        "id": "yAT8bJB9bkq1",
        "outputId": "99ce345f-99eb-4a31-a95f-6b83c5f0c559"
      },
      "execution_count": 13,
      "outputs": [
        {
          "output_type": "execute_result",
          "data": {
            "text/plain": [
              "     ┌───┐                    ┌───┐     \n",
              "q_0: ┤ X ├─────────────────■──┤ X ├──■──\n",
              "     └─┬─┘┌───┐     ┌───┐┌─┴─┐└───┘  │  \n",
              "q_1: ──┼──┤ X ├─────┤ X ├┤ X ├──■────┼──\n",
              "       │  └─┬─┘┌───┐└─┬─┘└─┬─┘┌─┴─┐┌─┴─┐\n",
              "q_2: ──■────■──┤ X ├──■────■──┤ X ├┤ X ├\n",
              "               └───┘          └───┘└───┘"
            ],
            "text/html": [
              "<pre style=\"word-wrap: normal;white-space: pre;background: #fff0;line-height: 1.1;font-family: &quot;Courier New&quot;,Courier,monospace\">     ┌───┐                    ┌───┐     \n",
              "q_0: ┤ X ├─────────────────■──┤ X ├──■──\n",
              "     └─┬─┘┌───┐     ┌───┐┌─┴─┐└───┘  │  \n",
              "q_1: ──┼──┤ X ├─────┤ X ├┤ X ├──■────┼──\n",
              "       │  └─┬─┘┌───┐└─┬─┘└─┬─┘┌─┴─┐┌─┴─┐\n",
              "q_2: ──■────■──┤ X ├──■────■──┤ X ├┤ X ├\n",
              "               └───┘          └───┘└───┘</pre>"
            ]
          },
          "metadata": {},
          "execution_count": 13
        }
      ]
    },
    {
      "cell_type": "code",
      "source": [
        "# Optimisation\n",
        "optimal = optimize_bfs(qi.Operator(qc404).data, len(INPUT))\n",
        "print(bfs_opt_to_ctf_str(optimal)) # Résultat à renvoyer au serveur"
      ],
      "metadata": {
        "colab": {
          "base_uri": "https://localhost:8080/"
        },
        "id": "_jdmuNUmcHjm",
        "outputId": "bfadaad0-89b8-4991-a568-654f6506dbf6"
      },
      "execution_count": 14,
      "outputs": [
        {
          "output_type": "stream",
          "name": "stdout",
          "text": [
            "{\"gates\": [[\"NOT\", [0]], [\"TOFFOLI\", [0, 2, 1]], [\"CNOT\", [2, 0]], [\"NOT\", [2]], [\"CNOT\", [1, 2]], [\"CNOT\", [0, 1]]], \"bits\": 3}\n"
          ]
        }
      ]
    },
    {
      "cell_type": "markdown",
      "source": [
        "On peut même visualiser le circuit optimisé"
      ],
      "metadata": {
        "id": "Q53YDHLAXXel"
      }
    },
    {
      "cell_type": "code",
      "source": [
        "# Circuit optimisé\n",
        "optimalCirc = gen_circuit_from_ctf(bfs_opt_to_ctf(optimal))\n",
        "optimalCirc.draw()"
      ],
      "metadata": {
        "colab": {
          "base_uri": "https://localhost:8080/",
          "height": 125
        },
        "id": "28eg-scBXWXV",
        "outputId": "e389d678-07ec-4389-83be-994da7524fc7"
      },
      "execution_count": 15,
      "outputs": [
        {
          "output_type": "execute_result",
          "data": {
            "text/plain": [
              "     ┌───┐     ┌───┐               \n",
              "q_0: ┤ X ├──■──┤ X ├────────────■──\n",
              "     └───┘┌─┴─┐└─┬─┘          ┌─┴─┐\n",
              "q_1: ─────┤ X ├──┼─────────■──┤ X ├\n",
              "          └─┬─┘  │  ┌───┐┌─┴─┐└───┘\n",
              "q_2: ───────■────■──┤ X ├┤ X ├─────\n",
              "                    └───┘└───┘     "
            ],
            "text/html": [
              "<pre style=\"word-wrap: normal;white-space: pre;background: #fff0;line-height: 1.1;font-family: &quot;Courier New&quot;,Courier,monospace\">     ┌───┐     ┌───┐               \n",
              "q_0: ┤ X ├──■──┤ X ├────────────■──\n",
              "     └───┘┌─┴─┐└─┬─┘          ┌─┴─┐\n",
              "q_1: ─────┤ X ├──┼─────────■──┤ X ├\n",
              "          └─┬─┘  │  ┌───┐┌─┴─┐└───┘\n",
              "q_2: ───────■────■──┤ X ├┤ X ├─────\n",
              "                    └───┘└───┘     </pre>"
            ]
          },
          "metadata": {},
          "execution_count": 15
        }
      ]
    },
    {
      "cell_type": "code",
      "source": [],
      "metadata": {
        "id": "K8x1bGFncoIx"
      },
      "execution_count": null,
      "outputs": []
    }
  ]
}
